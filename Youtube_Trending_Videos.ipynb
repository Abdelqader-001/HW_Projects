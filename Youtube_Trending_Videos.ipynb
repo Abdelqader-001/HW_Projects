{
 "cells": [
  {
   "cell_type": "markdown",
   "metadata": {},
   "source": [
    "Team members:\n",
    "- Abed Alqader Salameh\n",
    "- Diana Salameh\n",
    "- Samah Nazzal"
   ]
  },
  {
   "cell_type": "markdown",
   "metadata": {},
   "source": [
    "# This is an analysis of youtube dataset that contains data about the trending videos.This analysis is to get insights into YouTube trending videos, to see what is common between these videos."
   ]
  },
  {
   "cell_type": "code",
   "execution_count": 1,
   "metadata": {},
   "outputs": [],
   "source": [
    "import pandas as pd\n",
    "import numpy as np\n",
    "import matplotlib as mpl\n",
    "import matplotlib.pyplot as plt\n",
    "import seaborn as sns\n",
    "import numpy as np\n",
    "import json"
   ]
  },
  {
   "cell_type": "code",
   "execution_count": 2,
   "metadata": {},
   "outputs": [],
   "source": [
    "df = pd.read_csv(\"USvideos.csv\")   "
   ]
  },
  {
   "cell_type": "code",
   "execution_count": 3,
   "metadata": {},
   "outputs": [
    {
     "data": {
      "text/html": [
       "<div>\n",
       "<style scoped>\n",
       "    .dataframe tbody tr th:only-of-type {\n",
       "        vertical-align: middle;\n",
       "    }\n",
       "\n",
       "    .dataframe tbody tr th {\n",
       "        vertical-align: top;\n",
       "    }\n",
       "\n",
       "    .dataframe thead th {\n",
       "        text-align: right;\n",
       "    }\n",
       "</style>\n",
       "<table border=\"1\" class=\"dataframe\">\n",
       "  <thead>\n",
       "    <tr style=\"text-align: right;\">\n",
       "      <th></th>\n",
       "      <th>video_id</th>\n",
       "      <th>trending_date</th>\n",
       "      <th>title</th>\n",
       "      <th>channel_title</th>\n",
       "      <th>category_id</th>\n",
       "      <th>publish_time</th>\n",
       "      <th>tags</th>\n",
       "      <th>views</th>\n",
       "      <th>likes</th>\n",
       "      <th>dislikes</th>\n",
       "      <th>comment_count</th>\n",
       "      <th>thumbnail_link</th>\n",
       "      <th>comments_disabled</th>\n",
       "      <th>ratings_disabled</th>\n",
       "      <th>video_error_or_removed</th>\n",
       "      <th>description</th>\n",
       "    </tr>\n",
       "  </thead>\n",
       "  <tbody>\n",
       "    <tr>\n",
       "      <th>0</th>\n",
       "      <td>2kyS6SvSYSE</td>\n",
       "      <td>17.14.11</td>\n",
       "      <td>WE WANT TO TALK ABOUT OUR MARRIAGE</td>\n",
       "      <td>CaseyNeistat</td>\n",
       "      <td>22</td>\n",
       "      <td>2017-11-13T17:13:01.000Z</td>\n",
       "      <td>SHANtell martin</td>\n",
       "      <td>748374</td>\n",
       "      <td>57527</td>\n",
       "      <td>2966</td>\n",
       "      <td>15954</td>\n",
       "      <td>https://i.ytimg.com/vi/2kyS6SvSYSE/default.jpg</td>\n",
       "      <td>False</td>\n",
       "      <td>False</td>\n",
       "      <td>False</td>\n",
       "      <td>SHANTELL'S CHANNEL - https://www.youtube.com/s...</td>\n",
       "    </tr>\n",
       "    <tr>\n",
       "      <th>1</th>\n",
       "      <td>1ZAPwfrtAFY</td>\n",
       "      <td>17.14.11</td>\n",
       "      <td>The Trump Presidency: Last Week Tonight with J...</td>\n",
       "      <td>LastWeekTonight</td>\n",
       "      <td>24</td>\n",
       "      <td>2017-11-13T07:30:00.000Z</td>\n",
       "      <td>last week tonight trump presidency|\"last week ...</td>\n",
       "      <td>2418783</td>\n",
       "      <td>97185</td>\n",
       "      <td>6146</td>\n",
       "      <td>12703</td>\n",
       "      <td>https://i.ytimg.com/vi/1ZAPwfrtAFY/default.jpg</td>\n",
       "      <td>False</td>\n",
       "      <td>False</td>\n",
       "      <td>False</td>\n",
       "      <td>One year after the presidential election, John...</td>\n",
       "    </tr>\n",
       "    <tr>\n",
       "      <th>2</th>\n",
       "      <td>5qpjK5DgCt4</td>\n",
       "      <td>17.14.11</td>\n",
       "      <td>Racist Superman | Rudy Mancuso, King Bach &amp; Le...</td>\n",
       "      <td>Rudy Mancuso</td>\n",
       "      <td>23</td>\n",
       "      <td>2017-11-12T19:05:24.000Z</td>\n",
       "      <td>racist superman|\"rudy\"|\"mancuso\"|\"king\"|\"bach\"...</td>\n",
       "      <td>3191434</td>\n",
       "      <td>146033</td>\n",
       "      <td>5339</td>\n",
       "      <td>8181</td>\n",
       "      <td>https://i.ytimg.com/vi/5qpjK5DgCt4/default.jpg</td>\n",
       "      <td>False</td>\n",
       "      <td>False</td>\n",
       "      <td>False</td>\n",
       "      <td>WATCH MY PREVIOUS VIDEO ▶ \\n\\nSUBSCRIBE ► http...</td>\n",
       "    </tr>\n",
       "    <tr>\n",
       "      <th>3</th>\n",
       "      <td>puqaWrEC7tY</td>\n",
       "      <td>17.14.11</td>\n",
       "      <td>Nickelback Lyrics: Real or Fake?</td>\n",
       "      <td>Good Mythical Morning</td>\n",
       "      <td>24</td>\n",
       "      <td>2017-11-13T11:00:04.000Z</td>\n",
       "      <td>rhett and link|\"gmm\"|\"good mythical morning\"|\"...</td>\n",
       "      <td>343168</td>\n",
       "      <td>10172</td>\n",
       "      <td>666</td>\n",
       "      <td>2146</td>\n",
       "      <td>https://i.ytimg.com/vi/puqaWrEC7tY/default.jpg</td>\n",
       "      <td>False</td>\n",
       "      <td>False</td>\n",
       "      <td>False</td>\n",
       "      <td>Today we find out if Link is a Nickelback amat...</td>\n",
       "    </tr>\n",
       "    <tr>\n",
       "      <th>4</th>\n",
       "      <td>d380meD0W0M</td>\n",
       "      <td>17.14.11</td>\n",
       "      <td>I Dare You: GOING BALD!?</td>\n",
       "      <td>nigahiga</td>\n",
       "      <td>24</td>\n",
       "      <td>2017-11-12T18:01:41.000Z</td>\n",
       "      <td>ryan|\"higa\"|\"higatv\"|\"nigahiga\"|\"i dare you\"|\"...</td>\n",
       "      <td>2095731</td>\n",
       "      <td>132235</td>\n",
       "      <td>1989</td>\n",
       "      <td>17518</td>\n",
       "      <td>https://i.ytimg.com/vi/d380meD0W0M/default.jpg</td>\n",
       "      <td>False</td>\n",
       "      <td>False</td>\n",
       "      <td>False</td>\n",
       "      <td>I know it's been a while since we did this sho...</td>\n",
       "    </tr>\n",
       "  </tbody>\n",
       "</table>\n",
       "</div>"
      ],
      "text/plain": [
       "      video_id trending_date  \\\n",
       "0  2kyS6SvSYSE      17.14.11   \n",
       "1  1ZAPwfrtAFY      17.14.11   \n",
       "2  5qpjK5DgCt4      17.14.11   \n",
       "3  puqaWrEC7tY      17.14.11   \n",
       "4  d380meD0W0M      17.14.11   \n",
       "\n",
       "                                               title          channel_title  \\\n",
       "0                 WE WANT TO TALK ABOUT OUR MARRIAGE           CaseyNeistat   \n",
       "1  The Trump Presidency: Last Week Tonight with J...        LastWeekTonight   \n",
       "2  Racist Superman | Rudy Mancuso, King Bach & Le...           Rudy Mancuso   \n",
       "3                   Nickelback Lyrics: Real or Fake?  Good Mythical Morning   \n",
       "4                           I Dare You: GOING BALD!?               nigahiga   \n",
       "\n",
       "   category_id              publish_time  \\\n",
       "0           22  2017-11-13T17:13:01.000Z   \n",
       "1           24  2017-11-13T07:30:00.000Z   \n",
       "2           23  2017-11-12T19:05:24.000Z   \n",
       "3           24  2017-11-13T11:00:04.000Z   \n",
       "4           24  2017-11-12T18:01:41.000Z   \n",
       "\n",
       "                                                tags    views   likes  \\\n",
       "0                                    SHANtell martin   748374   57527   \n",
       "1  last week tonight trump presidency|\"last week ...  2418783   97185   \n",
       "2  racist superman|\"rudy\"|\"mancuso\"|\"king\"|\"bach\"...  3191434  146033   \n",
       "3  rhett and link|\"gmm\"|\"good mythical morning\"|\"...   343168   10172   \n",
       "4  ryan|\"higa\"|\"higatv\"|\"nigahiga\"|\"i dare you\"|\"...  2095731  132235   \n",
       "\n",
       "   dislikes  comment_count                                  thumbnail_link  \\\n",
       "0      2966          15954  https://i.ytimg.com/vi/2kyS6SvSYSE/default.jpg   \n",
       "1      6146          12703  https://i.ytimg.com/vi/1ZAPwfrtAFY/default.jpg   \n",
       "2      5339           8181  https://i.ytimg.com/vi/5qpjK5DgCt4/default.jpg   \n",
       "3       666           2146  https://i.ytimg.com/vi/puqaWrEC7tY/default.jpg   \n",
       "4      1989          17518  https://i.ytimg.com/vi/d380meD0W0M/default.jpg   \n",
       "\n",
       "   comments_disabled  ratings_disabled  video_error_or_removed  \\\n",
       "0              False             False                   False   \n",
       "1              False             False                   False   \n",
       "2              False             False                   False   \n",
       "3              False             False                   False   \n",
       "4              False             False                   False   \n",
       "\n",
       "                                         description  \n",
       "0  SHANTELL'S CHANNEL - https://www.youtube.com/s...  \n",
       "1  One year after the presidential election, John...  \n",
       "2  WATCH MY PREVIOUS VIDEO ▶ \\n\\nSUBSCRIBE ► http...  \n",
       "3  Today we find out if Link is a Nickelback amat...  \n",
       "4  I know it's been a while since we did this sho...  "
      ]
     },
     "execution_count": 3,
     "metadata": {},
     "output_type": "execute_result"
    }
   ],
   "source": [
    "df.head()"
   ]
  },
  {
   "cell_type": "code",
   "execution_count": 4,
   "metadata": {},
   "outputs": [
    {
     "name": "stdout",
     "output_type": "stream",
     "text": [
      "<class 'pandas.core.frame.DataFrame'>\n",
      "RangeIndex: 40949 entries, 0 to 40948\n",
      "Data columns (total 16 columns):\n",
      "video_id                  40949 non-null object\n",
      "trending_date             40949 non-null object\n",
      "title                     40949 non-null object\n",
      "channel_title             40949 non-null object\n",
      "category_id               40949 non-null int64\n",
      "publish_time              40949 non-null object\n",
      "tags                      40949 non-null object\n",
      "views                     40949 non-null int64\n",
      "likes                     40949 non-null int64\n",
      "dislikes                  40949 non-null int64\n",
      "comment_count             40949 non-null int64\n",
      "thumbnail_link            40949 non-null object\n",
      "comments_disabled         40949 non-null bool\n",
      "ratings_disabled          40949 non-null bool\n",
      "video_error_or_removed    40949 non-null bool\n",
      "description               40379 non-null object\n",
      "dtypes: bool(3), int64(5), object(8)\n",
      "memory usage: 4.2+ MB\n"
     ]
    }
   ],
   "source": [
    "df.info()            # this is a summary of the data set showing that we have 40949 trending video"
   ]
  },
  {
   "cell_type": "code",
   "execution_count": 5,
   "metadata": {},
   "outputs": [
    {
     "data": {
      "text/html": [
       "<div>\n",
       "<style scoped>\n",
       "    .dataframe tbody tr th:only-of-type {\n",
       "        vertical-align: middle;\n",
       "    }\n",
       "\n",
       "    .dataframe tbody tr th {\n",
       "        vertical-align: top;\n",
       "    }\n",
       "\n",
       "    .dataframe thead th {\n",
       "        text-align: right;\n",
       "    }\n",
       "</style>\n",
       "<table border=\"1\" class=\"dataframe\">\n",
       "  <thead>\n",
       "    <tr style=\"text-align: right;\">\n",
       "      <th></th>\n",
       "      <th>video_id</th>\n",
       "      <th>trending_date</th>\n",
       "      <th>title</th>\n",
       "      <th>channel_title</th>\n",
       "      <th>category_id</th>\n",
       "      <th>publish_time</th>\n",
       "      <th>tags</th>\n",
       "      <th>views</th>\n",
       "      <th>likes</th>\n",
       "      <th>dislikes</th>\n",
       "      <th>comment_count</th>\n",
       "      <th>thumbnail_link</th>\n",
       "      <th>comments_disabled</th>\n",
       "      <th>ratings_disabled</th>\n",
       "      <th>video_error_or_removed</th>\n",
       "      <th>description</th>\n",
       "    </tr>\n",
       "  </thead>\n",
       "  <tbody>\n",
       "    <tr>\n",
       "      <th>42</th>\n",
       "      <td>NZFhMSgbKKM</td>\n",
       "      <td>17.14.11</td>\n",
       "      <td>Dennis Smith Jr. and LeBron James go back and ...</td>\n",
       "      <td>Ben Rohrbach</td>\n",
       "      <td>17</td>\n",
       "      <td>2017-11-13T15:11:00.000Z</td>\n",
       "      <td>[none]</td>\n",
       "      <td>945</td>\n",
       "      <td>7</td>\n",
       "      <td>5</td>\n",
       "      <td>8</td>\n",
       "      <td>https://i.ytimg.com/vi/NZFhMSgbKKM/default.jpg</td>\n",
       "      <td>False</td>\n",
       "      <td>False</td>\n",
       "      <td>False</td>\n",
       "      <td>NaN</td>\n",
       "    </tr>\n",
       "    <tr>\n",
       "      <th>47</th>\n",
       "      <td>sbcbvuitiTc</td>\n",
       "      <td>17.14.11</td>\n",
       "      <td>Stephon Marbury and Jimmer Fredette fight in C...</td>\n",
       "      <td>NBA Highlights · YouTube</td>\n",
       "      <td>17</td>\n",
       "      <td>2017-11-10T18:23:05.000Z</td>\n",
       "      <td>NBA|\"Basketball\"|\"Sports\"</td>\n",
       "      <td>956169</td>\n",
       "      <td>2017</td>\n",
       "      <td>2425</td>\n",
       "      <td>1447</td>\n",
       "      <td>https://i.ytimg.com/vi/sbcbvuitiTc/default.jpg</td>\n",
       "      <td>False</td>\n",
       "      <td>False</td>\n",
       "      <td>False</td>\n",
       "      <td>NaN</td>\n",
       "    </tr>\n",
       "    <tr>\n",
       "      <th>175</th>\n",
       "      <td>4d07RXYLsJE</td>\n",
       "      <td>17.14.11</td>\n",
       "      <td>Sphaera - demonstrating interaction</td>\n",
       "      <td>Jenny Hanell</td>\n",
       "      <td>28</td>\n",
       "      <td>2017-11-04T20:48:16.000Z</td>\n",
       "      <td>[none]</td>\n",
       "      <td>1827</td>\n",
       "      <td>3</td>\n",
       "      <td>0</td>\n",
       "      <td>2</td>\n",
       "      <td>https://i.ytimg.com/vi/4d07RXYLsJE/default.jpg</td>\n",
       "      <td>False</td>\n",
       "      <td>False</td>\n",
       "      <td>False</td>\n",
       "      <td>NaN</td>\n",
       "    </tr>\n",
       "    <tr>\n",
       "      <th>267</th>\n",
       "      <td>NZFhMSgbKKM</td>\n",
       "      <td>17.15.11</td>\n",
       "      <td>Dennis Smith Jr. and LeBron James go back and ...</td>\n",
       "      <td>Ben Rohrbach</td>\n",
       "      <td>17</td>\n",
       "      <td>2017-11-13T15:11:00.000Z</td>\n",
       "      <td>[none]</td>\n",
       "      <td>21544</td>\n",
       "      <td>83</td>\n",
       "      <td>74</td>\n",
       "      <td>62</td>\n",
       "      <td>https://i.ytimg.com/vi/NZFhMSgbKKM/default.jpg</td>\n",
       "      <td>False</td>\n",
       "      <td>False</td>\n",
       "      <td>False</td>\n",
       "      <td>NaN</td>\n",
       "    </tr>\n",
       "    <tr>\n",
       "      <th>312</th>\n",
       "      <td>sbcbvuitiTc</td>\n",
       "      <td>17.15.11</td>\n",
       "      <td>Stephon Marbury and Jimmer Fredette fight in C...</td>\n",
       "      <td>NBA Highlights · YouTube</td>\n",
       "      <td>17</td>\n",
       "      <td>2017-11-10T18:23:05.000Z</td>\n",
       "      <td>NBA|\"Basketball\"|\"Sports\"</td>\n",
       "      <td>1015189</td>\n",
       "      <td>2133</td>\n",
       "      <td>2483</td>\n",
       "      <td>1465</td>\n",
       "      <td>https://i.ytimg.com/vi/sbcbvuitiTc/default.jpg</td>\n",
       "      <td>False</td>\n",
       "      <td>False</td>\n",
       "      <td>False</td>\n",
       "      <td>NaN</td>\n",
       "    </tr>\n",
       "  </tbody>\n",
       "</table>\n",
       "</div>"
      ],
      "text/plain": [
       "        video_id trending_date  \\\n",
       "42   NZFhMSgbKKM      17.14.11   \n",
       "47   sbcbvuitiTc      17.14.11   \n",
       "175  4d07RXYLsJE      17.14.11   \n",
       "267  NZFhMSgbKKM      17.15.11   \n",
       "312  sbcbvuitiTc      17.15.11   \n",
       "\n",
       "                                                 title  \\\n",
       "42   Dennis Smith Jr. and LeBron James go back and ...   \n",
       "47   Stephon Marbury and Jimmer Fredette fight in C...   \n",
       "175                Sphaera - demonstrating interaction   \n",
       "267  Dennis Smith Jr. and LeBron James go back and ...   \n",
       "312  Stephon Marbury and Jimmer Fredette fight in C...   \n",
       "\n",
       "                channel_title  category_id              publish_time  \\\n",
       "42               Ben Rohrbach           17  2017-11-13T15:11:00.000Z   \n",
       "47   NBA Highlights · YouTube           17  2017-11-10T18:23:05.000Z   \n",
       "175              Jenny Hanell           28  2017-11-04T20:48:16.000Z   \n",
       "267              Ben Rohrbach           17  2017-11-13T15:11:00.000Z   \n",
       "312  NBA Highlights · YouTube           17  2017-11-10T18:23:05.000Z   \n",
       "\n",
       "                          tags    views  likes  dislikes  comment_count  \\\n",
       "42                      [none]      945      7         5              8   \n",
       "47   NBA|\"Basketball\"|\"Sports\"   956169   2017      2425           1447   \n",
       "175                     [none]     1827      3         0              2   \n",
       "267                     [none]    21544     83        74             62   \n",
       "312  NBA|\"Basketball\"|\"Sports\"  1015189   2133      2483           1465   \n",
       "\n",
       "                                     thumbnail_link  comments_disabled  \\\n",
       "42   https://i.ytimg.com/vi/NZFhMSgbKKM/default.jpg              False   \n",
       "47   https://i.ytimg.com/vi/sbcbvuitiTc/default.jpg              False   \n",
       "175  https://i.ytimg.com/vi/4d07RXYLsJE/default.jpg              False   \n",
       "267  https://i.ytimg.com/vi/NZFhMSgbKKM/default.jpg              False   \n",
       "312  https://i.ytimg.com/vi/sbcbvuitiTc/default.jpg              False   \n",
       "\n",
       "     ratings_disabled  video_error_or_removed description  \n",
       "42              False                   False         NaN  \n",
       "47              False                   False         NaN  \n",
       "175             False                   False         NaN  \n",
       "267             False                   False         NaN  \n",
       "312             False                   False         NaN  "
      ]
     },
     "execution_count": 5,
     "metadata": {},
     "output_type": "execute_result"
    }
   ],
   "source": [
    "df[df[\"description\"].apply(lambda x: pd.isna(x))].head()     # This is to show the videos with NaN describtion"
   ]
  },
  {
   "cell_type": "markdown",
   "metadata": {},
   "source": [
    "We have to fill the NaN describtion with empty string \" \""
   ]
  },
  {
   "cell_type": "code",
   "execution_count": 6,
   "metadata": {},
   "outputs": [],
   "source": [
    "df[\"description\"] = df[\"description\"].fillna(value=\"\")    "
   ]
  },
  {
   "cell_type": "markdown",
   "metadata": {},
   "source": [
    "Now we have to convert the trending date entries to date format in order to use the date functions"
   ]
  },
  {
   "cell_type": "code",
   "execution_count": 7,
   "metadata": {},
   "outputs": [],
   "source": [
    "\n",
    "df['trending_date'] = pd.to_datetime(df['trending_date'], format = \"%y.%d.%m\")"
   ]
  },
  {
   "cell_type": "code",
   "execution_count": 8,
   "metadata": {},
   "outputs": [],
   "source": [
    "df['trending_year']= df['trending_date'].dt.year    # make new cloumn of the years only"
   ]
  },
  {
   "cell_type": "markdown",
   "metadata": {},
   "source": [
    "Now we have to count the years and how much videos for each year."
   ]
  },
  {
   "cell_type": "code",
   "execution_count": 9,
   "metadata": {},
   "outputs": [
    {
     "data": {
      "text/plain": [
       "2018    0.765562\n",
       "2017    0.234438\n",
       "Name: trending_year, dtype: float64"
      ]
     },
     "execution_count": 9,
     "metadata": {},
     "output_type": "execute_result"
    }
   ],
   "source": [
    "df[\"trending_year\"].value_counts(normalize=True)"
   ]
  },
  {
   "cell_type": "markdown",
   "metadata": {},
   "source": [
    "This shows which year with most trending videos. The result is 76% of videos became viral in 2018, vs 23% in 2017"
   ]
  },
  {
   "cell_type": "code",
   "execution_count": 10,
   "metadata": {},
   "outputs": [
    {
     "data": {
      "text/html": [
       "<div>\n",
       "<style scoped>\n",
       "    .dataframe tbody tr th:only-of-type {\n",
       "        vertical-align: middle;\n",
       "    }\n",
       "\n",
       "    .dataframe tbody tr th {\n",
       "        vertical-align: top;\n",
       "    }\n",
       "\n",
       "    .dataframe thead th {\n",
       "        text-align: right;\n",
       "    }\n",
       "</style>\n",
       "<table border=\"1\" class=\"dataframe\">\n",
       "  <thead>\n",
       "    <tr style=\"text-align: right;\">\n",
       "      <th></th>\n",
       "      <th>category_id</th>\n",
       "      <th>views</th>\n",
       "      <th>likes</th>\n",
       "      <th>dislikes</th>\n",
       "      <th>comment_count</th>\n",
       "      <th>trending_year</th>\n",
       "    </tr>\n",
       "  </thead>\n",
       "  <tbody>\n",
       "    <tr>\n",
       "      <th>count</th>\n",
       "      <td>40949.000000</td>\n",
       "      <td>4.094900e+04</td>\n",
       "      <td>4.094900e+04</td>\n",
       "      <td>4.094900e+04</td>\n",
       "      <td>4.094900e+04</td>\n",
       "      <td>40949.000000</td>\n",
       "    </tr>\n",
       "    <tr>\n",
       "      <th>mean</th>\n",
       "      <td>19.972429</td>\n",
       "      <td>2.360785e+06</td>\n",
       "      <td>7.426670e+04</td>\n",
       "      <td>3.711401e+03</td>\n",
       "      <td>8.446804e+03</td>\n",
       "      <td>2017.765562</td>\n",
       "    </tr>\n",
       "    <tr>\n",
       "      <th>std</th>\n",
       "      <td>7.568327</td>\n",
       "      <td>7.394114e+06</td>\n",
       "      <td>2.288853e+05</td>\n",
       "      <td>2.902971e+04</td>\n",
       "      <td>3.743049e+04</td>\n",
       "      <td>0.423652</td>\n",
       "    </tr>\n",
       "    <tr>\n",
       "      <th>min</th>\n",
       "      <td>1.000000</td>\n",
       "      <td>5.490000e+02</td>\n",
       "      <td>0.000000e+00</td>\n",
       "      <td>0.000000e+00</td>\n",
       "      <td>0.000000e+00</td>\n",
       "      <td>2017.000000</td>\n",
       "    </tr>\n",
       "    <tr>\n",
       "      <th>25%</th>\n",
       "      <td>17.000000</td>\n",
       "      <td>2.423290e+05</td>\n",
       "      <td>5.424000e+03</td>\n",
       "      <td>2.020000e+02</td>\n",
       "      <td>6.140000e+02</td>\n",
       "      <td>2018.000000</td>\n",
       "    </tr>\n",
       "    <tr>\n",
       "      <th>50%</th>\n",
       "      <td>24.000000</td>\n",
       "      <td>6.818610e+05</td>\n",
       "      <td>1.809100e+04</td>\n",
       "      <td>6.310000e+02</td>\n",
       "      <td>1.856000e+03</td>\n",
       "      <td>2018.000000</td>\n",
       "    </tr>\n",
       "    <tr>\n",
       "      <th>75%</th>\n",
       "      <td>25.000000</td>\n",
       "      <td>1.823157e+06</td>\n",
       "      <td>5.541700e+04</td>\n",
       "      <td>1.938000e+03</td>\n",
       "      <td>5.755000e+03</td>\n",
       "      <td>2018.000000</td>\n",
       "    </tr>\n",
       "    <tr>\n",
       "      <th>max</th>\n",
       "      <td>43.000000</td>\n",
       "      <td>2.252119e+08</td>\n",
       "      <td>5.613827e+06</td>\n",
       "      <td>1.674420e+06</td>\n",
       "      <td>1.361580e+06</td>\n",
       "      <td>2018.000000</td>\n",
       "    </tr>\n",
       "  </tbody>\n",
       "</table>\n",
       "</div>"
      ],
      "text/plain": [
       "        category_id         views         likes      dislikes  comment_count  \\\n",
       "count  40949.000000  4.094900e+04  4.094900e+04  4.094900e+04   4.094900e+04   \n",
       "mean      19.972429  2.360785e+06  7.426670e+04  3.711401e+03   8.446804e+03   \n",
       "std        7.568327  7.394114e+06  2.288853e+05  2.902971e+04   3.743049e+04   \n",
       "min        1.000000  5.490000e+02  0.000000e+00  0.000000e+00   0.000000e+00   \n",
       "25%       17.000000  2.423290e+05  5.424000e+03  2.020000e+02   6.140000e+02   \n",
       "50%       24.000000  6.818610e+05  1.809100e+04  6.310000e+02   1.856000e+03   \n",
       "75%       25.000000  1.823157e+06  5.541700e+04  1.938000e+03   5.755000e+03   \n",
       "max       43.000000  2.252119e+08  5.613827e+06  1.674420e+06   1.361580e+06   \n",
       "\n",
       "       trending_year  \n",
       "count   40949.000000  \n",
       "mean     2017.765562  \n",
       "std         0.423652  \n",
       "min      2017.000000  \n",
       "25%      2018.000000  \n",
       "50%      2018.000000  \n",
       "75%      2018.000000  \n",
       "max      2018.000000  "
      ]
     },
     "execution_count": 10,
     "metadata": {},
     "output_type": "execute_result"
    }
   ],
   "source": [
    "df.describe()  "
   ]
  },
  {
   "cell_type": "markdown",
   "metadata": {},
   "source": [
    "We can conclude that \n",
    "- The average number of views of a trending video is 2,360,785.\n",
    "- The median value for the number of views is 681,861, which means that half the trending videos have views that are less than that number, and the other half have views larger than that number.\n",
    "- The average number of likes of a trending video is 74,266, while the average number of dislikes is 3,711.\n",
    "- The Average comment count is 8,446 while the median is 1,856"
   ]
  },
  {
   "cell_type": "markdown",
   "metadata": {},
   "source": [
    "# Histogram of views"
   ]
  },
  {
   "cell_type": "code",
   "execution_count": 11,
   "metadata": {},
   "outputs": [
    {
     "data": {
      "image/png": "[encoded data removed]",
      "text/plain": [
       "<Figure size 432x288 with 1 Axes>"
      ]
     },
     "metadata": {
      "needs_background": "light"
     },
     "output_type": "display_data"
    }
   ],
   "source": [
    "# To make an array to use it as bins in hitogram, the number of views here is up to 120 million\n",
    "x = np.linspace(0, 120e+06, 50,endpoint=False) \n",
    "plt.hist(df['views'],bins=x)\n",
    "plt.xlabel('Views')\n",
    "plt.ylabel('No of Videos')\n",
    "plt.show()"
   ]
  },
  {
   "cell_type": "code",
   "execution_count": 12,
   "metadata": {},
   "outputs": [
    {
     "data": {
      "image/png": "[encoded data removed]",
      "text/plain": [
       "<Figure size 432x288 with 1 Axes>"
      ]
     },
     "metadata": {
      "needs_background": "light"
     },
     "output_type": "display_data"
    }
   ],
   "source": [
    "x = np.linspace(0, 25e+06, 50,endpoint=False)       # the same but with number of views up to 25 million\n",
    "plt.hist(df['views'],bins=x)\n",
    "plt.xlabel('Views')\n",
    "plt.ylabel('No of Videos')\n",
    "plt.show()"
   ]
  },
  {
   "cell_type": "markdown",
   "metadata": {},
   "source": [
    "The above plot shows that the majority of the trending videos have 5 million views or less "
   ]
  },
  {
   "cell_type": "code",
   "execution_count": 13,
   "metadata": {},
   "outputs": [
    {
     "data": {
      "image/png": "[encoded data removed]",
      "text/plain": [
       "<Figure size 432x288 with 1 Axes>"
      ]
     },
     "metadata": {
      "needs_background": "light"
     },
     "output_type": "display_data"
    }
   ],
   "source": [
    "x = np.linspace(0, 5e+06, 50,endpoint=False)  # the same but with number of views up to 5 million\n",
    "plt.hist(df['views'],bins=x)\n",
    "plt.xlabel('Views')\n",
    "plt.ylabel('No of Videos')\n",
    "plt.show()\n"
   ]
  },
  {
   "cell_type": "markdown",
   "metadata": {},
   "source": [
    "The above plot shows that the majority of the trending videos have 1 million views or less"
   ]
  },
  {
   "cell_type": "code",
   "execution_count": 14,
   "metadata": {},
   "outputs": [
    {
     "data": {
      "text/plain": [
       "60.09426359618062"
      ]
     },
     "execution_count": 14,
     "metadata": {},
     "output_type": "execute_result"
    }
   ],
   "source": [
    "# percentage of trending videos that have less than 1 milloin views around 60%\n",
    "df[df['views'] < 1e6]['views'].count() / df['views'].count() * 100  "
   ]
  },
  {
   "cell_type": "code",
   "execution_count": 15,
   "metadata": {},
   "outputs": [
    {
     "data": {
      "text/plain": [
       "70.74653837700554"
      ]
     },
     "execution_count": 15,
     "metadata": {},
     "output_type": "execute_result"
    }
   ],
   "source": [
    "# percentage of trending videos that have less than 1.5 milloin views around 70%\n",
    "df[df['views'] < 1.5e6]['views'].count() / df['views'].count() * 100"
   ]
  },
  {
   "cell_type": "code",
   "execution_count": 16,
   "metadata": {},
   "outputs": [
    {
     "data": {
      "text/plain": [
       "90.81052040342865"
      ]
     },
     "execution_count": 16,
     "metadata": {},
     "output_type": "execute_result"
    }
   ],
   "source": [
    "# percentage of trending videos that have less than 5 milloin views around 90%\n",
    "df[df['views'] < 5e6]['views'].count() / df['views'].count() * 100"
   ]
  },
  {
   "cell_type": "markdown",
   "metadata": {},
   "source": [
    "# Histogram of likes"
   ]
  },
  {
   "cell_type": "code",
   "execution_count": 17,
   "metadata": {},
   "outputs": [
    {
     "data": {
      "image/png": "[encoded data removed]",
      "text/plain": [
       "<Figure size 432x288 with 1 Axes>"
      ]
     },
     "metadata": {
      "needs_background": "light"
     },
     "output_type": "display_data"
    }
   ],
   "source": [
    "x = np.linspace(0, 1e+06, 50,endpoint=False) # the number of likes here is up to 1 million\n",
    "plt.hist(df['likes'],bins=x)\n",
    "plt.xlabel('likes')\n",
    "plt.ylabel('No of Videos')\n",
    "plt.show()"
   ]
  },
  {
   "cell_type": "markdown",
   "metadata": {},
   "source": [
    "The above plot shows that the majority of the trending videos have 100,000 views or less"
   ]
  },
  {
   "cell_type": "code",
   "execution_count": 18,
   "metadata": {},
   "outputs": [
    {
     "data": {
      "image/png": "[encoded data removed]",
      "text/plain": [
       "<Figure size 432x288 with 1 Axes>"
      ]
     },
     "metadata": {
      "needs_background": "light"
     },
     "output_type": "display_data"
    }
   ],
   "source": [
    "x = np.linspace(0, 100000, 50,endpoint=False) # the same but with number of likes up to 100,000 \n",
    "plt.hist(df['likes'],bins=x)\n",
    "plt.xlabel('likes')\n",
    "plt.ylabel('No of Videos')\n",
    "plt.show()"
   ]
  },
  {
   "cell_type": "markdown",
   "metadata": {},
   "source": [
    "The above plot shows that the majority of the trending videos have 40,000 likes or less"
   ]
  },
  {
   "cell_type": "code",
   "execution_count": 19,
   "metadata": {},
   "outputs": [
    {
     "data": {
      "text/plain": [
       "68.4900730176561"
      ]
     },
     "execution_count": 19,
     "metadata": {},
     "output_type": "execute_result"
    }
   ],
   "source": [
    "# percentage of trending videos that have less than 40,000 likes around 68%\n",
    "df[df['likes'] < 40000]['likes'].count() / df['likes'].count() * 100"
   ]
  },
  {
   "cell_type": "code",
   "execution_count": 20,
   "metadata": {},
   "outputs": [
    {
     "data": {
      "text/plain": [
       "83.91657915944222"
      ]
     },
     "execution_count": 20,
     "metadata": {},
     "output_type": "execute_result"
    }
   ],
   "source": [
    "# percentage of trending videos that have less than 100,000 likes around 84%\n",
    "df[df['likes'] < 100000]['likes'].count() / df['likes'].count() * 100"
   ]
  },
  {
   "cell_type": "markdown",
   "metadata": {},
   "source": [
    "# Histogram of Comments"
   ]
  },
  {
   "cell_type": "code",
   "execution_count": 21,
   "metadata": {},
   "outputs": [
    {
     "data": {
      "image/png": "[encoded data removed]",
      "text/plain": [
       "<Figure size 432x288 with 1 Axes>"
      ]
     },
     "metadata": {
      "needs_background": "light"
     },
     "output_type": "display_data"
    }
   ],
   "source": [
    "x = np.linspace(0, 100000, 50,endpoint=False) # the number of comments here is up to 100,000\n",
    "plt.hist(df['comment_count'],bins=x)\n",
    "plt.xlabel('comment_count')\n",
    "plt.ylabel('No of Videos')\n",
    "plt.show()"
   ]
  },
  {
   "cell_type": "markdown",
   "metadata": {},
   "source": [
    "The above plot shows that the majority of the trending videos have 10,000 comment or less"
   ]
  },
  {
   "cell_type": "code",
   "execution_count": 22,
   "metadata": {},
   "outputs": [
    {
     "data": {
      "image/png": "[encoded data removed]",
      "text/plain": [
       "<Figure size 432x288 with 1 Axes>"
      ]
     },
     "metadata": {
      "needs_background": "light"
     },
     "output_type": "display_data"
    }
   ],
   "source": [
    "x = np.linspace(0, 20000, 50,endpoint=False)  # the number of comments here is up to 20,000\n",
    "plt.hist(df['comment_count'],bins=x)\n",
    "plt.xlabel('comment_count')\n",
    "plt.ylabel('No of Videos')\n",
    "plt.show()"
   ]
  },
  {
   "cell_type": "markdown",
   "metadata": {},
   "source": [
    "The above plot shows that the majority of the trending videos have 4000 comment or less"
   ]
  },
  {
   "cell_type": "code",
   "execution_count": 23,
   "metadata": {},
   "outputs": [
    {
     "data": {
      "text/plain": [
       "67.48882756599673"
      ]
     },
     "execution_count": 23,
     "metadata": {},
     "output_type": "execute_result"
    }
   ],
   "source": [
    "# percentage of trending videos that have less than 4000 comment around 67%\n",
    "df[df['comment_count'] < 4000]['comment_count'].count() / df['comment_count'].count() * 100"
   ]
  },
  {
   "cell_type": "markdown",
   "metadata": {},
   "source": [
    "# Effect of using capital letters in the video title"
   ]
  },
  {
   "cell_type": "code",
   "execution_count": 24,
   "metadata": {},
   "outputs": [
    {
     "data": {
      "text/plain": [
       "{False: 22949, True: 18000}"
      ]
     },
     "execution_count": 24,
     "metadata": {},
     "output_type": "execute_result"
    }
   ],
   "source": [
    "def contains_capitalized_word(s):    # this function to check if a string contains a capital letter or not\n",
    "    for word in s.split():\n",
    "        if word.isupper():\n",
    "            return True\n",
    "    return False\n",
    "\n",
    "\n",
    "# applying the above function on the title column to make new column of the videos with at least one capital letters word\n",
    "df[\"contains_capitalized\"] = df[\"title\"].apply(contains_capitalized_word) \n",
    "\n",
    "value_counts = df[\"contains_capitalized\"].value_counts().to_dict()\n",
    "value_counts"
   ]
  },
  {
   "cell_type": "code",
   "execution_count": 25,
   "metadata": {},
   "outputs": [
    {
     "data": {
      "image/png": "[encoded data removed]",
      "text/plain": [
       "<Figure size 432x288 with 1 Axes>"
      ]
     },
     "metadata": {},
     "output_type": "display_data"
    }
   ],
   "source": [
    "plt.pie(value_counts.values(), labels=value_counts.keys())  \n",
    "plt.show()"
   ]
  },
  {
   "cell_type": "markdown",
   "metadata": {},
   "source": [
    "The above pie-chart show that the tranding videos that contains at least one capital letters words(Orange) VS videos does not contains any capital letters word( Blue)"
   ]
  },
  {
   "cell_type": "code",
   "execution_count": 26,
   "metadata": {},
   "outputs": [
    {
     "data": {
      "text/plain": [
       "False    0.560429\n",
       "True     0.439571\n",
       "Name: contains_capitalized, dtype: float64"
      ]
     },
     "execution_count": 26,
     "metadata": {},
     "output_type": "execute_result"
    }
   ],
   "source": [
    "df[\"contains_capitalized\"].value_counts(normalize=True)"
   ]
  },
  {
   "cell_type": "markdown",
   "metadata": {},
   "source": [
    "This shows that he capital letters words does not affect the video to be trendy ( 56% not contain VS 43% contains)"
   ]
  },
  {
   "cell_type": "markdown",
   "metadata": {},
   "source": [
    "# Effect of Title length on the trending videos"
   ]
  },
  {
   "cell_type": "code",
   "execution_count": 27,
   "metadata": {},
   "outputs": [],
   "source": [
    "# This is to make a new column of the title length of each video\n",
    "df[\"title_length\"] = df[\"title\"].apply(lambda x: len(x))"
   ]
  },
  {
   "cell_type": "code",
   "execution_count": 28,
   "metadata": {},
   "outputs": [
    {
     "data": {
      "image/png": "[encoded data removed]",
      "text/plain": [
       "<Figure size 432x288 with 1 Axes>"
      ]
     },
     "metadata": {
      "needs_background": "light"
     },
     "output_type": "display_data"
    }
   ],
   "source": [
    "y = np.linspace(0, 120, 40,endpoint=False) # the number of characters here is up to 120\n",
    "plt.hist(df['title_length'],bins=y)\n",
    "plt.xlabel('title_length')\n",
    "plt.ylabel('No of Videos')\n",
    "plt.show()"
   ]
  },
  {
   "cell_type": "markdown",
   "metadata": {},
   "source": [
    "The above plot shows that the majority of the trending videos have tilte length between 30-60 characters"
   ]
  },
  {
   "cell_type": "markdown",
   "metadata": {},
   "source": [
    "# Relationship between views of videos and title length"
   ]
  },
  {
   "cell_type": "code",
   "execution_count": 29,
   "metadata": {},
   "outputs": [
    {
     "data": {
      "image/png": "[encoded data removed]",
      "text/plain": [
       "<Figure size 432x288 with 1 Axes>"
      ]
     },
     "metadata": {
      "needs_background": "light"
     },
     "output_type": "display_data"
    }
   ],
   "source": [
    "plt.scatter(df['views'], df['title_length'])\n",
    "plt.xlabel('views')\n",
    "plt.ylabel('title_length')\n",
    "plt.show()"
   ]
  },
  {
   "cell_type": "markdown",
   "metadata": {},
   "source": [
    "The above scatter plot shows that there is no relationship between number of views of a video and it's tilte length, however this plot shows an intersting thing, which is that the videos with tile length around 50 characters have more than 1000,000 views  "
   ]
  },
  {
   "cell_type": "markdown",
   "metadata": {},
   "source": [
    "# Correlation between dataset variables"
   ]
  },
  {
   "cell_type": "code",
   "execution_count": 30,
   "metadata": {},
   "outputs": [
    {
     "data": {
      "text/html": [
       "<div>\n",
       "<style scoped>\n",
       "    .dataframe tbody tr th:only-of-type {\n",
       "        vertical-align: middle;\n",
       "    }\n",
       "\n",
       "    .dataframe tbody tr th {\n",
       "        vertical-align: top;\n",
       "    }\n",
       "\n",
       "    .dataframe thead th {\n",
       "        text-align: right;\n",
       "    }\n",
       "</style>\n",
       "<table border=\"1\" class=\"dataframe\">\n",
       "  <thead>\n",
       "    <tr style=\"text-align: right;\">\n",
       "      <th></th>\n",
       "      <th>category_id</th>\n",
       "      <th>views</th>\n",
       "      <th>likes</th>\n",
       "      <th>dislikes</th>\n",
       "      <th>comment_count</th>\n",
       "      <th>comments_disabled</th>\n",
       "      <th>ratings_disabled</th>\n",
       "      <th>video_error_or_removed</th>\n",
       "      <th>trending_year</th>\n",
       "      <th>contains_capitalized</th>\n",
       "      <th>title_length</th>\n",
       "    </tr>\n",
       "  </thead>\n",
       "  <tbody>\n",
       "    <tr>\n",
       "      <th>category_id</th>\n",
       "      <td>1.000000</td>\n",
       "      <td>-0.168231</td>\n",
       "      <td>-0.173921</td>\n",
       "      <td>-0.033547</td>\n",
       "      <td>-0.076307</td>\n",
       "      <td>0.048949</td>\n",
       "      <td>-0.013506</td>\n",
       "      <td>-0.030011</td>\n",
       "      <td>0.000604</td>\n",
       "      <td>0.064707</td>\n",
       "      <td>0.024199</td>\n",
       "    </tr>\n",
       "    <tr>\n",
       "      <th>views</th>\n",
       "      <td>-0.168231</td>\n",
       "      <td>1.000000</td>\n",
       "      <td>0.849177</td>\n",
       "      <td>0.472213</td>\n",
       "      <td>0.617621</td>\n",
       "      <td>0.002677</td>\n",
       "      <td>0.015355</td>\n",
       "      <td>-0.002256</td>\n",
       "      <td>0.079671</td>\n",
       "      <td>-0.025441</td>\n",
       "      <td>-0.035612</td>\n",
       "    </tr>\n",
       "    <tr>\n",
       "      <th>likes</th>\n",
       "      <td>-0.173921</td>\n",
       "      <td>0.849177</td>\n",
       "      <td>1.000000</td>\n",
       "      <td>0.447186</td>\n",
       "      <td>0.803057</td>\n",
       "      <td>-0.028918</td>\n",
       "      <td>-0.020888</td>\n",
       "      <td>-0.002641</td>\n",
       "      <td>0.064615</td>\n",
       "      <td>-0.002951</td>\n",
       "      <td>-0.078166</td>\n",
       "    </tr>\n",
       "    <tr>\n",
       "      <th>dislikes</th>\n",
       "      <td>-0.033547</td>\n",
       "      <td>0.472213</td>\n",
       "      <td>0.447186</td>\n",
       "      <td>1.000000</td>\n",
       "      <td>0.700184</td>\n",
       "      <td>-0.004431</td>\n",
       "      <td>-0.008230</td>\n",
       "      <td>-0.001853</td>\n",
       "      <td>0.013134</td>\n",
       "      <td>-0.021672</td>\n",
       "      <td>-0.031235</td>\n",
       "    </tr>\n",
       "    <tr>\n",
       "      <th>comment_count</th>\n",
       "      <td>-0.076307</td>\n",
       "      <td>0.617621</td>\n",
       "      <td>0.803057</td>\n",
       "      <td>0.700184</td>\n",
       "      <td>1.000000</td>\n",
       "      <td>-0.028277</td>\n",
       "      <td>-0.013819</td>\n",
       "      <td>-0.003725</td>\n",
       "      <td>0.039043</td>\n",
       "      <td>0.019825</td>\n",
       "      <td>-0.067043</td>\n",
       "    </tr>\n",
       "    <tr>\n",
       "      <th>comments_disabled</th>\n",
       "      <td>0.048949</td>\n",
       "      <td>0.002677</td>\n",
       "      <td>-0.028918</td>\n",
       "      <td>-0.004431</td>\n",
       "      <td>-0.028277</td>\n",
       "      <td>1.000000</td>\n",
       "      <td>0.319230</td>\n",
       "      <td>-0.002970</td>\n",
       "      <td>-0.017102</td>\n",
       "      <td>0.009074</td>\n",
       "      <td>0.026668</td>\n",
       "    </tr>\n",
       "    <tr>\n",
       "      <th>ratings_disabled</th>\n",
       "      <td>-0.013506</td>\n",
       "      <td>0.015355</td>\n",
       "      <td>-0.020888</td>\n",
       "      <td>-0.008230</td>\n",
       "      <td>-0.013819</td>\n",
       "      <td>0.319230</td>\n",
       "      <td>1.000000</td>\n",
       "      <td>-0.001526</td>\n",
       "      <td>-0.004837</td>\n",
       "      <td>0.000547</td>\n",
       "      <td>0.001442</td>\n",
       "    </tr>\n",
       "    <tr>\n",
       "      <th>video_error_or_removed</th>\n",
       "      <td>-0.030011</td>\n",
       "      <td>-0.002256</td>\n",
       "      <td>-0.002641</td>\n",
       "      <td>-0.001853</td>\n",
       "      <td>-0.003725</td>\n",
       "      <td>-0.002970</td>\n",
       "      <td>-0.001526</td>\n",
       "      <td>1.000000</td>\n",
       "      <td>0.010686</td>\n",
       "      <td>-0.020995</td>\n",
       "      <td>-0.013833</td>\n",
       "    </tr>\n",
       "    <tr>\n",
       "      <th>trending_year</th>\n",
       "      <td>0.000604</td>\n",
       "      <td>0.079671</td>\n",
       "      <td>0.064615</td>\n",
       "      <td>0.013134</td>\n",
       "      <td>0.039043</td>\n",
       "      <td>-0.017102</td>\n",
       "      <td>-0.004837</td>\n",
       "      <td>0.010686</td>\n",
       "      <td>1.000000</td>\n",
       "      <td>0.003471</td>\n",
       "      <td>-0.014375</td>\n",
       "    </tr>\n",
       "    <tr>\n",
       "      <th>contains_capitalized</th>\n",
       "      <td>0.064707</td>\n",
       "      <td>-0.025441</td>\n",
       "      <td>-0.002951</td>\n",
       "      <td>-0.021672</td>\n",
       "      <td>0.019825</td>\n",
       "      <td>0.009074</td>\n",
       "      <td>0.000547</td>\n",
       "      <td>-0.020995</td>\n",
       "      <td>0.003471</td>\n",
       "      <td>1.000000</td>\n",
       "      <td>0.126671</td>\n",
       "    </tr>\n",
       "    <tr>\n",
       "      <th>title_length</th>\n",
       "      <td>0.024199</td>\n",
       "      <td>-0.035612</td>\n",
       "      <td>-0.078166</td>\n",
       "      <td>-0.031235</td>\n",
       "      <td>-0.067043</td>\n",
       "      <td>0.026668</td>\n",
       "      <td>0.001442</td>\n",
       "      <td>-0.013833</td>\n",
       "      <td>-0.014375</td>\n",
       "      <td>0.126671</td>\n",
       "      <td>1.000000</td>\n",
       "    </tr>\n",
       "  </tbody>\n",
       "</table>\n",
       "</div>"
      ],
      "text/plain": [
       "                        category_id     views     likes  dislikes  \\\n",
       "category_id                1.000000 -0.168231 -0.173921 -0.033547   \n",
       "views                     -0.168231  1.000000  0.849177  0.472213   \n",
       "likes                     -0.173921  0.849177  1.000000  0.447186   \n",
       "dislikes                  -0.033547  0.472213  0.447186  1.000000   \n",
       "comment_count             -0.076307  0.617621  0.803057  0.700184   \n",
       "comments_disabled          0.048949  0.002677 -0.028918 -0.004431   \n",
       "ratings_disabled          -0.013506  0.015355 -0.020888 -0.008230   \n",
       "video_error_or_removed    -0.030011 -0.002256 -0.002641 -0.001853   \n",
       "trending_year              0.000604  0.079671  0.064615  0.013134   \n",
       "contains_capitalized       0.064707 -0.025441 -0.002951 -0.021672   \n",
       "title_length               0.024199 -0.035612 -0.078166 -0.031235   \n",
       "\n",
       "                        comment_count  comments_disabled  ratings_disabled  \\\n",
       "category_id                 -0.076307           0.048949         -0.013506   \n",
       "views                        0.617621           0.002677          0.015355   \n",
       "likes                        0.803057          -0.028918         -0.020888   \n",
       "dislikes                     0.700184          -0.004431         -0.008230   \n",
       "comment_count                1.000000          -0.028277         -0.013819   \n",
       "comments_disabled           -0.028277           1.000000          0.319230   \n",
       "ratings_disabled            -0.013819           0.319230          1.000000   \n",
       "video_error_or_removed      -0.003725          -0.002970         -0.001526   \n",
       "trending_year                0.039043          -0.017102         -0.004837   \n",
       "contains_capitalized         0.019825           0.009074          0.000547   \n",
       "title_length                -0.067043           0.026668          0.001442   \n",
       "\n",
       "                        video_error_or_removed  trending_year  \\\n",
       "category_id                          -0.030011       0.000604   \n",
       "views                                -0.002256       0.079671   \n",
       "likes                                -0.002641       0.064615   \n",
       "dislikes                             -0.001853       0.013134   \n",
       "comment_count                        -0.003725       0.039043   \n",
       "comments_disabled                    -0.002970      -0.017102   \n",
       "ratings_disabled                     -0.001526      -0.004837   \n",
       "video_error_or_removed                1.000000       0.010686   \n",
       "trending_year                         0.010686       1.000000   \n",
       "contains_capitalized                 -0.020995       0.003471   \n",
       "title_length                         -0.013833      -0.014375   \n",
       "\n",
       "                        contains_capitalized  title_length  \n",
       "category_id                         0.064707      0.024199  \n",
       "views                              -0.025441     -0.035612  \n",
       "likes                              -0.002951     -0.078166  \n",
       "dislikes                           -0.021672     -0.031235  \n",
       "comment_count                       0.019825     -0.067043  \n",
       "comments_disabled                   0.009074      0.026668  \n",
       "ratings_disabled                    0.000547      0.001442  \n",
       "video_error_or_removed             -0.020995     -0.013833  \n",
       "trending_year                       0.003471     -0.014375  \n",
       "contains_capitalized                1.000000      0.126671  \n",
       "title_length                        0.126671      1.000000  "
      ]
     },
     "execution_count": 30,
     "metadata": {},
     "output_type": "execute_result"
    }
   ],
   "source": [
    "corr=df.corr()\n",
    "corr"
   ]
  },
  {
   "cell_type": "markdown",
   "metadata": {},
   "source": [
    "We see for example that views and likes are highly positively correlated with a correlation value of 0.85; we see also a high positive correlation (0.80) between likes and comment count, and between dislikes and comment count (0.70).\n",
    "\n",
    "There is some positive correlation between views and dislikes, between views and comment count, between likes and dislikes."
   ]
  },
  {
   "cell_type": "code",
   "execution_count": 31,
   "metadata": {},
   "outputs": [
    {
     "data": {
      "image/png": "[encoded data removed]",
      "text/plain": [
       "<Figure size 1152x720 with 2 Axes>"
      ]
     },
     "metadata": {
      "needs_background": "light"
     },
     "output_type": "display_data"
    }
   ],
   "source": [
    "plt.figure(figsize = (16,10))\n",
    "heatmap_correlation = sns.heatmap(corr,annot =True,square =False)"
   ]
  },
  {
   "cell_type": "markdown",
   "metadata": {},
   "source": [
    "The above heatmap shows a strong relation beween views, likes, dislikes and comments count"
   ]
  },
  {
   "cell_type": "code",
   "execution_count": 32,
   "metadata": {},
   "outputs": [
    {
     "data": {
      "image/png": "[encoded data removed]",
      "text/plain": [
       "<Figure size 432x288 with 1 Axes>"
      ]
     },
     "metadata": {
      "needs_background": "light"
     },
     "output_type": "display_data"
    }
   ],
   "source": [
    "plt.scatter(df['views'], df['likes'])     \n",
    "plt.xlabel('views')\n",
    "plt.ylabel('likes')\n",
    "plt.show()"
   ]
  },
  {
   "cell_type": "markdown",
   "metadata": {},
   "source": [
    "The above scatter plot between views and likes shows they are strongly positve relation( as views increases, the likes also increases)"
   ]
  },
  {
   "cell_type": "code",
   "execution_count": 33,
   "metadata": {},
   "outputs": [],
   "source": [
    "title_words = list(df[\"title\"].apply(lambda x: x.split()))  # split the title into words\n",
    "title_words_flattened=[]    # define a new list to add all the words in it\n",
    "for x in title_words:       # nested for loops to reach every word in all of the videos title\n",
    "    for y in x:\n",
    "        title_words_flattened.append(y)  "
   ]
  },
  {
   "cell_type": "code",
   "execution_count": 34,
   "metadata": {},
   "outputs": [
    {
     "data": {
      "text/plain": [
       "[('-', 11452),\n",
       " ('|', 10663),\n",
       " ('The', 5762),\n",
       " ('the', 3610),\n",
       " ('a', 2566),\n",
       " ('to', 2343),\n",
       " ('of', 2338),\n",
       " ('in', 2176),\n",
       " ('A', 2122),\n",
       " ('&', 2024),\n",
       " ('I', 1940),\n",
       " ('and', 1917),\n",
       " ('Video)', 1901),\n",
       " ('Trailer', 1868),\n",
       " ('How', 1661),\n",
       " ('with', 1655),\n",
       " ('2018', 1613),\n",
       " ('(Official', 1594),\n",
       " ('Official', 1554),\n",
       " ('on', 1552),\n",
       " ('To', 1397),\n",
       " ('You', 1254),\n",
       " ('My', 1080),\n",
       " ('for', 1020),\n",
       " ('ft.', 1017)]"
      ]
     },
     "execution_count": 34,
     "metadata": {},
     "output_type": "execute_result"
    }
   ],
   "source": [
    "from collections import Counter \n",
    "Counter(title_words_flattened).most_common(25) \n",
    "# count the words of (title_words_flattened) with each word how many times appeared in the list "
   ]
  },
  {
   "cell_type": "markdown",
   "metadata": {
    "scrolled": true
   },
   "source": [
    "The above list shows the most common words appeared in the trending video titles, which shows that( '-' , '|') are the most common"
   ]
  },
  {
   "cell_type": "markdown",
   "metadata": {},
   "source": [
    "# Channels that have the largest number of trending videos:"
   ]
  },
  {
   "cell_type": "code",
   "execution_count": 35,
   "metadata": {},
   "outputs": [
    {
     "data": {
      "image/png": "[encoded data removed]",
      "text/plain": [
       "<Figure size 648x648 with 1 Axes>"
      ]
     },
     "metadata": {
      "needs_background": "light"
     },
     "output_type": "display_data"
    }
   ],
   "source": [
    "from matplotlib import pyplot as plt  \n",
    "plt.figure(figsize=(9,9))\n",
    "plt.xlabel('No. of videos')\n",
    "plt.ylabel('Channels')\n",
    "plt=df[\"channel_title\"].value_counts()[:20].plot(kind='barh')\n",
    "plt.invert_yaxis()\n"
   ]
  },
  {
   "cell_type": "markdown",
   "metadata": {},
   "source": [
    "# Video category tha has the largest number of trending videos:"
   ]
  },
  {
   "cell_type": "code",
   "execution_count": 36,
   "metadata": {},
   "outputs": [],
   "source": [
    "with open(\"US_category_id.json\") as f:    \n",
    "    categories = json.load(f)[\"items\"]    # load the (items part from Json file)\n",
    "cat_dict = {}\n",
    "for cat in categories:    \n",
    "    cat_dict[int(cat[\"id\"])] = cat[\"snippet\"][\"title\"]\n",
    "#now we have to map each video category_id with it's corresponding name as it is defined the cat_dict    \n",
    "df['category_name'] = df['category_id'].map(cat_dict)  "
   ]
  },
  {
   "cell_type": "code",
   "execution_count": 37,
   "metadata": {
    "scrolled": true
   },
   "outputs": [
    {
     "data": {
      "image/png": "[encoded data removed]",
      "text/plain": [
       "<Figure size 648x648 with 1 Axes>"
      ]
     },
     "metadata": {
      "needs_background": "light"
     },
     "output_type": "display_data"
    }
   ],
   "source": [
    "from matplotlib import pyplot as plt    #this to plot the channels\n",
    "plt.figure(figsize=(9,9))\n",
    "plt.xlabel('No. of videos')\n",
    "plt.ylabel('Category')\n",
    "plt=df[\"category_name\"].value_counts()[:20].plot(kind='barh')\n",
    "plt.invert_yaxis()  # this to show the most popular category at the beginning"
   ]
  },
  {
   "cell_type": "markdown",
   "metadata": {},
   "source": [
    "the above bar plot shows the channels with which have trending videos, we notice that the Entertainment category is the most popular followed by Music"
   ]
  },
  {
   "cell_type": "code",
   "execution_count": null,
   "metadata": {},
   "outputs": [],
   "source": []
  },
  {
   "cell_type": "code",
   "execution_count": null,
   "metadata": {},
   "outputs": [],
   "source": []
  },
  {
   "cell_type": "code",
   "execution_count": null,
   "metadata": {},
   "outputs": [],
   "source": []
  },
  {
   "cell_type": "code",
   "execution_count": null,
   "metadata": {},
   "outputs": [],
   "source": []
  }
 ],
 "metadata": {
  "kernelspec": {
   "display_name": "Python 3",
   "language": "python",
   "name": "python3"
  },
  "language_info": {
   "codemirror_mode": {
    "name": "ipython",
    "version": 3
   },
   "file_extension": ".py",
   "mimetype": "text/x-python",
   "name": "python",
   "nbconvert_exporter": "python",
   "pygments_lexer": "ipython3",
   "version": "3.7.1"
  }
 },
 "nbformat": 4,
 "nbformat_minor": 2
}
